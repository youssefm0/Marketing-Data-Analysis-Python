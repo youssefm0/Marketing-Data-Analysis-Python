{
 "cells": [
  {
   "cell_type": "code",
   "execution_count": 1,
   "id": "02de1d3c",
   "metadata": {},
   "outputs": [],
   "source": [
    "marketing_data = {\n",
    "    'Session_ID': ['00101', '00102', '00103', '00104', '00105', '00106', '00107', '00108', '00109', '00110',\n",
    "                   '00111', '00112', '00113', '00114', '00115', '00116', '00117', '00118', '00119', '00120',\n",
    "                   '00121', '00122', '00123', '00124', '00125', '00126', '00127', '00128', '00129', '00130',\n",
    "                   '00131', '00132', '00133', '00134', '00135', '00136', '00137', '00138', '00139', '00140',\n",
    "                   '00141', '00142', '00143', '00144', '00145', '00146', '00147', '00148', '00149', '00150',\n",
    "                   '00151', '00152', '00153', '00154', '00155', '00156', '00157', '00158', '00159', '00160',\n",
    "                   '00161', '00162', '00163', '00164', '00165', '00166', '00167', '00168', '00169', '00170',\n",
    "                   '00171', '00172', '00173', '00174', '00175', '00176', '00177', '00178', '00179', '00180',\n",
    "                   '00181', '00182', '00183', '00184', '00185', '00186', '00187', '00188', '00189', '00190',\n",
    "                   '00191', '00192', '00193', '00194', '00195', '00196', '00197', '00198', '00199', '00200'],\n",
    "    'User_ID': [1, 2, None, 4, 5, 6, 7, 8, None, 10,\n",
    "                11, 12, 13, 14, None, 16, 17, 18, 19, 20,\n",
    "                21, 22, 23, 24, 25, 26, 27, 28, 29, 30,\n",
    "                31, 32, 33, 34, 35, 36, 37, 38, 39, 40,\n",
    "                41, 42, 43, 44, 45, 46, 47, 48, 49, 50,\n",
    "                51, 52, 53, 54, 55, 56, 57, 58, 59, 60,\n",
    "                61, 62, 63, 64, 65, 66, 67, 68, 69, 70,\n",
    "                71, 72, 73, 74, 75, 76, 77, 78, 79, 80,\n",
    "                81, 82, 83, 84, 85, 86, 87, 88, 89, 90,\n",
    "                91, 92, 93, 94, 95, 96, 97, 98, 99, 100],\n",
    "    'Page_URL': ['/home', '/product1', '/cart', '/checkout', '/thank-you'] * 20,\n",
    "    'Entry_Page': ['/home', '/product1', '/home', '/cart', '/checkout'] * 20,\n",
    "    'Exit_Page': ['/product1', '/cart', '/checkout', '/thank-you', '/thank-you'] * 20,\n",
    "    'Unique_Visitors': [12, None, 25, 30, 18, 15, 22, 35, None, 40,\n",
    "                        28, 33, None, 19, 27, 31, 14, 26, 38, 42,\n",
    "                        None, 17, 24, 36, 45, 29, 34, None, 41, 23,\n",
    "                        32, 16, 21, 37, None, 43, 20, 39, 44, 25,\n",
    "                        31, None, 18, 26, 33, 40, 22, 27, 35, None,\n",
    "                        42, 24, 30, 15, 19, None, 28, 36, 41, 21,\n",
    "                        34, 23, 37, None, 45, 26, 32, 17, 29, 38,\n",
    "                        None, 40, 25, 31, 39, 22, 28, 33, 44, 20,\n",
    "                        18, 27, None, 35, 42, 24, 30, 16, 21, 36,\n",
    "                        43, 29, 34, 15, 19, None, 28, 37, 41, 23],\n",
    "    'Bounce_Rate': [45, 30, None, 50, 25, 40, 35, None, 55, 60,\n",
    "                    28, 33, 42, None, 50, 38, 44, 27, 52, 65,\n",
    "                    None, 31, 46, 58, 29, 43, 37, None, 54, 62,\n",
    "                    30, 35, 48, 56, None, 60, 26, 39, 45, 52,\n",
    "                    33, None, 41, 57, 28, 44, 36, 50, None, 63,\n",
    "                    35, 40, 27, None, 53, 61, 29, 45, 38, 55,\n",
    "                    None, 32, 47, 59, 26, 42, 34, 51, 64, 28,\n",
    "                    36, None, 43, 52, 60, 27, 46, 39, 53, 65,\n",
    "                    31, 37, 49, None, 58, 25, 41, 33, 54, 62,\n",
    "                    34, 40, None, 56, 63, 28, 44, 35, 50, 61],\n",
    "    'Conversion_Rate': [15, 10, 5, None, 20, 18, 12, 8, 14, None,\n",
    "                        16, 11, 7, 13, None, 19, 15, 9, 17, 20,\n",
    "                        None, 10, 6, 12, 18, 14, 8, 16, None, 20,\n",
    "                        17, 13, 9, 15, None, 19, 11, 7, 18, 20,\n",
    "                        16, None, 8, 14, 19, 12, 10, 15, None, 20,\n",
    "                        18, 13, 7, 16, None, 19, 14, 9, 17, 20,\n",
    "                        None, 10, 6, 13, 18, 15, 8, 16, None, 20,\n",
    "                        17, 12, 9, 15, None, 19, 11, 7, 18, 20,\n",
    "                        16, None, 8, 14, 19, 13, 10, 15, None, 20,\n",
    "                        18, 12, 7, 16, None, 19, 14, 9, 17, 20],\n",
    "    'Exit_Percentage': [60, 70, 50, None, 80, 65, 75, 55, None, 85,\n",
    "                        70, 60, 55, 80, None, 68, 72, 58, 82, 63,\n",
    "                        None, 73, 53, 83, 67, 77, 57, None, 87, 62,\n",
    "                        72, 52, 82, 66, None, 76, 56, 86, 61, 71,\n",
    "                        51, None, 81, 65, 75, 55, 85, 60, None, 90,\n",
    "                        73, 53, 83, None, 67, 77, 57, 87, 62, 72,\n",
    "                        None, 52, 82, 66, 76, 56, 86, 61, 71, 51,\n",
    "                        81, None, 65, 75, 55, 85, 60, 90, 73, 53,\n",
    "                        83, None, 67, 77, 57, 87, 62, 72, 52, 82,\n",
    "                        66, 76, None, 56, 86, 61, 71, 51, 81, 65],\n",
    "    'Total_Views': [300, 250, None, 400, 320, 280, 350, 420, None, 310,\n",
    "                    290, 330, 380, None, 360, 340, 370, 260, 390, 410,\n",
    "                    None, 300, 280, 350, 420, 310, 290, None, 330, 380,\n",
    "                    360, 340, 370, 260, None, 390, 410, 300, 280, 350,\n",
    "                    420, None, 310, 290, 330, 380, 360, 340, None, 370,\n",
    "                    260, 390, 410, None, 300, 280, 350, 420, 310, 290,\n",
    "                    None, 330, 380, 360, 340, 370, 260, 390, None, 410,\n",
    "                    300, 280, 350, 420, None, 310, 290, 330, 380, 360,\n",
    "                    340, None, 370, 260, 390, 410, 300, 280, 350, 420,\n",
    "                    310, 290, None, 330, 380, 360, 340, 370, 260, 390]\n",
    "}"
   ]
  },
  {
   "cell_type": "code",
   "execution_count": 2,
   "id": "d753ad82",
   "metadata": {},
   "outputs": [],
   "source": [
    "import pandas as pd\n",
    "import matplotlib.pyplot as plt\n",
    "import seaborn as sns"
   ]
  },
  {
   "cell_type": "code",
   "execution_count": 3,
   "id": "14add0fb",
   "metadata": {},
   "outputs": [],
   "source": [
    "# Step 2: Convert to DataFrame\n",
    "df = pd.DataFrame(marketing_data)"
   ]
  },
  {
   "cell_type": "code",
   "execution_count": 4,
   "id": "6859d49b",
   "metadata": {},
   "outputs": [
    {
     "name": "stdout",
     "output_type": "stream",
     "text": [
      "<class 'pandas.core.frame.DataFrame'>\n",
      "RangeIndex: 100 entries, 0 to 99\n",
      "Data columns (total 10 columns):\n",
      " #   Column           Non-Null Count  Dtype  \n",
      "---  ------           --------------  -----  \n",
      " 0   Session_ID       100 non-null    object \n",
      " 1   User_ID          97 non-null     float64\n",
      " 2   Page_URL         100 non-null    object \n",
      " 3   Entry_Page       100 non-null    object \n",
      " 4   Exit_Page        100 non-null    object \n",
      " 5   Unique_Visitors  87 non-null     float64\n",
      " 6   Bounce_Rate      87 non-null     float64\n",
      " 7   Conversion_Rate  85 non-null     float64\n",
      " 8   Exit_Percentage  87 non-null     float64\n",
      " 9   Total_Views      86 non-null     float64\n",
      "dtypes: float64(6), object(4)\n",
      "memory usage: 7.9+ KB\n"
     ]
    }
   ],
   "source": [
    "df.info()"
   ]
  },
  {
   "cell_type": "code",
   "execution_count": 5,
   "id": "afb3c0e6",
   "metadata": {},
   "outputs": [
    {
     "data": {
      "text/html": [
       "<div>\n",
       "<style scoped>\n",
       "    .dataframe tbody tr th:only-of-type {\n",
       "        vertical-align: middle;\n",
       "    }\n",
       "\n",
       "    .dataframe tbody tr th {\n",
       "        vertical-align: top;\n",
       "    }\n",
       "\n",
       "    .dataframe thead th {\n",
       "        text-align: right;\n",
       "    }\n",
       "</style>\n",
       "<table border=\"1\" class=\"dataframe\">\n",
       "  <thead>\n",
       "    <tr style=\"text-align: right;\">\n",
       "      <th></th>\n",
       "      <th>User_ID</th>\n",
       "      <th>Unique_Visitors</th>\n",
       "      <th>Bounce_Rate</th>\n",
       "      <th>Conversion_Rate</th>\n",
       "      <th>Exit_Percentage</th>\n",
       "      <th>Total_Views</th>\n",
       "    </tr>\n",
       "  </thead>\n",
       "  <tbody>\n",
       "    <tr>\n",
       "      <th>count</th>\n",
       "      <td>97.000000</td>\n",
       "      <td>87.000000</td>\n",
       "      <td>87.000000</td>\n",
       "      <td>85.000000</td>\n",
       "      <td>87.000000</td>\n",
       "      <td>86.000000</td>\n",
       "    </tr>\n",
       "    <tr>\n",
       "      <th>mean</th>\n",
       "      <td>51.783505</td>\n",
       "      <td>29.310345</td>\n",
       "      <td>43.793103</td>\n",
       "      <td>14.000000</td>\n",
       "      <td>69.103448</td>\n",
       "      <td>340.697674</td>\n",
       "    </tr>\n",
       "    <tr>\n",
       "      <th>std</th>\n",
       "      <td>28.490944</td>\n",
       "      <td>8.878129</td>\n",
       "      <td>11.819513</td>\n",
       "      <td>4.388839</td>\n",
       "      <td>11.606969</td>\n",
       "      <td>48.331957</td>\n",
       "    </tr>\n",
       "    <tr>\n",
       "      <th>min</th>\n",
       "      <td>1.000000</td>\n",
       "      <td>12.000000</td>\n",
       "      <td>25.000000</td>\n",
       "      <td>5.000000</td>\n",
       "      <td>50.000000</td>\n",
       "      <td>250.000000</td>\n",
       "    </tr>\n",
       "    <tr>\n",
       "      <th>25%</th>\n",
       "      <td>28.000000</td>\n",
       "      <td>22.000000</td>\n",
       "      <td>34.000000</td>\n",
       "      <td>10.000000</td>\n",
       "      <td>60.000000</td>\n",
       "      <td>300.000000</td>\n",
       "    </tr>\n",
       "    <tr>\n",
       "      <th>50%</th>\n",
       "      <td>52.000000</td>\n",
       "      <td>29.000000</td>\n",
       "      <td>43.000000</td>\n",
       "      <td>15.000000</td>\n",
       "      <td>70.000000</td>\n",
       "      <td>340.000000</td>\n",
       "    </tr>\n",
       "    <tr>\n",
       "      <th>75%</th>\n",
       "      <td>76.000000</td>\n",
       "      <td>36.500000</td>\n",
       "      <td>53.500000</td>\n",
       "      <td>18.000000</td>\n",
       "      <td>80.000000</td>\n",
       "      <td>380.000000</td>\n",
       "    </tr>\n",
       "    <tr>\n",
       "      <th>max</th>\n",
       "      <td>100.000000</td>\n",
       "      <td>45.000000</td>\n",
       "      <td>65.000000</td>\n",
       "      <td>20.000000</td>\n",
       "      <td>90.000000</td>\n",
       "      <td>420.000000</td>\n",
       "    </tr>\n",
       "  </tbody>\n",
       "</table>\n",
       "</div>"
      ],
      "text/plain": [
       "          User_ID  Unique_Visitors  Bounce_Rate  Conversion_Rate  \\\n",
       "count   97.000000        87.000000    87.000000        85.000000   \n",
       "mean    51.783505        29.310345    43.793103        14.000000   \n",
       "std     28.490944         8.878129    11.819513         4.388839   \n",
       "min      1.000000        12.000000    25.000000         5.000000   \n",
       "25%     28.000000        22.000000    34.000000        10.000000   \n",
       "50%     52.000000        29.000000    43.000000        15.000000   \n",
       "75%     76.000000        36.500000    53.500000        18.000000   \n",
       "max    100.000000        45.000000    65.000000        20.000000   \n",
       "\n",
       "       Exit_Percentage  Total_Views  \n",
       "count        87.000000    86.000000  \n",
       "mean         69.103448   340.697674  \n",
       "std          11.606969    48.331957  \n",
       "min          50.000000   250.000000  \n",
       "25%          60.000000   300.000000  \n",
       "50%          70.000000   340.000000  \n",
       "75%          80.000000   380.000000  \n",
       "max          90.000000   420.000000  "
      ]
     },
     "execution_count": 5,
     "metadata": {},
     "output_type": "execute_result"
    }
   ],
   "source": [
    "df.describe()"
   ]
  },
  {
   "cell_type": "code",
   "execution_count": 6,
   "id": "47027302",
   "metadata": {},
   "outputs": [
    {
     "data": {
      "text/html": [
       "<div>\n",
       "<style scoped>\n",
       "    .dataframe tbody tr th:only-of-type {\n",
       "        vertical-align: middle;\n",
       "    }\n",
       "\n",
       "    .dataframe tbody tr th {\n",
       "        vertical-align: top;\n",
       "    }\n",
       "\n",
       "    .dataframe thead th {\n",
       "        text-align: right;\n",
       "    }\n",
       "</style>\n",
       "<table border=\"1\" class=\"dataframe\">\n",
       "  <thead>\n",
       "    <tr style=\"text-align: right;\">\n",
       "      <th></th>\n",
       "      <th>Session_ID</th>\n",
       "      <th>User_ID</th>\n",
       "      <th>Page_URL</th>\n",
       "      <th>Entry_Page</th>\n",
       "      <th>Exit_Page</th>\n",
       "      <th>Unique_Visitors</th>\n",
       "      <th>Bounce_Rate</th>\n",
       "      <th>Conversion_Rate</th>\n",
       "      <th>Exit_Percentage</th>\n",
       "      <th>Total_Views</th>\n",
       "    </tr>\n",
       "  </thead>\n",
       "  <tbody>\n",
       "    <tr>\n",
       "      <th>0</th>\n",
       "      <td>00101</td>\n",
       "      <td>1.0</td>\n",
       "      <td>/home</td>\n",
       "      <td>/home</td>\n",
       "      <td>/product1</td>\n",
       "      <td>12.0</td>\n",
       "      <td>45.0</td>\n",
       "      <td>15.0</td>\n",
       "      <td>60.0</td>\n",
       "      <td>300.0</td>\n",
       "    </tr>\n",
       "    <tr>\n",
       "      <th>1</th>\n",
       "      <td>00102</td>\n",
       "      <td>2.0</td>\n",
       "      <td>/product1</td>\n",
       "      <td>/product1</td>\n",
       "      <td>/cart</td>\n",
       "      <td>NaN</td>\n",
       "      <td>30.0</td>\n",
       "      <td>10.0</td>\n",
       "      <td>70.0</td>\n",
       "      <td>250.0</td>\n",
       "    </tr>\n",
       "    <tr>\n",
       "      <th>2</th>\n",
       "      <td>00103</td>\n",
       "      <td>NaN</td>\n",
       "      <td>/cart</td>\n",
       "      <td>/home</td>\n",
       "      <td>/checkout</td>\n",
       "      <td>25.0</td>\n",
       "      <td>NaN</td>\n",
       "      <td>5.0</td>\n",
       "      <td>50.0</td>\n",
       "      <td>NaN</td>\n",
       "    </tr>\n",
       "    <tr>\n",
       "      <th>3</th>\n",
       "      <td>00104</td>\n",
       "      <td>4.0</td>\n",
       "      <td>/checkout</td>\n",
       "      <td>/cart</td>\n",
       "      <td>/thank-you</td>\n",
       "      <td>30.0</td>\n",
       "      <td>50.0</td>\n",
       "      <td>NaN</td>\n",
       "      <td>NaN</td>\n",
       "      <td>400.0</td>\n",
       "    </tr>\n",
       "    <tr>\n",
       "      <th>4</th>\n",
       "      <td>00105</td>\n",
       "      <td>5.0</td>\n",
       "      <td>/thank-you</td>\n",
       "      <td>/checkout</td>\n",
       "      <td>/thank-you</td>\n",
       "      <td>18.0</td>\n",
       "      <td>25.0</td>\n",
       "      <td>20.0</td>\n",
       "      <td>80.0</td>\n",
       "      <td>320.0</td>\n",
       "    </tr>\n",
       "    <tr>\n",
       "      <th>5</th>\n",
       "      <td>00106</td>\n",
       "      <td>6.0</td>\n",
       "      <td>/home</td>\n",
       "      <td>/home</td>\n",
       "      <td>/product1</td>\n",
       "      <td>15.0</td>\n",
       "      <td>40.0</td>\n",
       "      <td>18.0</td>\n",
       "      <td>65.0</td>\n",
       "      <td>280.0</td>\n",
       "    </tr>\n",
       "    <tr>\n",
       "      <th>6</th>\n",
       "      <td>00107</td>\n",
       "      <td>7.0</td>\n",
       "      <td>/product1</td>\n",
       "      <td>/product1</td>\n",
       "      <td>/cart</td>\n",
       "      <td>22.0</td>\n",
       "      <td>35.0</td>\n",
       "      <td>12.0</td>\n",
       "      <td>75.0</td>\n",
       "      <td>350.0</td>\n",
       "    </tr>\n",
       "    <tr>\n",
       "      <th>7</th>\n",
       "      <td>00108</td>\n",
       "      <td>8.0</td>\n",
       "      <td>/cart</td>\n",
       "      <td>/home</td>\n",
       "      <td>/checkout</td>\n",
       "      <td>35.0</td>\n",
       "      <td>NaN</td>\n",
       "      <td>8.0</td>\n",
       "      <td>55.0</td>\n",
       "      <td>420.0</td>\n",
       "    </tr>\n",
       "    <tr>\n",
       "      <th>8</th>\n",
       "      <td>00109</td>\n",
       "      <td>NaN</td>\n",
       "      <td>/checkout</td>\n",
       "      <td>/cart</td>\n",
       "      <td>/thank-you</td>\n",
       "      <td>NaN</td>\n",
       "      <td>55.0</td>\n",
       "      <td>14.0</td>\n",
       "      <td>NaN</td>\n",
       "      <td>NaN</td>\n",
       "    </tr>\n",
       "    <tr>\n",
       "      <th>9</th>\n",
       "      <td>00110</td>\n",
       "      <td>10.0</td>\n",
       "      <td>/thank-you</td>\n",
       "      <td>/checkout</td>\n",
       "      <td>/thank-you</td>\n",
       "      <td>40.0</td>\n",
       "      <td>60.0</td>\n",
       "      <td>NaN</td>\n",
       "      <td>85.0</td>\n",
       "      <td>310.0</td>\n",
       "    </tr>\n",
       "  </tbody>\n",
       "</table>\n",
       "</div>"
      ],
      "text/plain": [
       "  Session_ID  User_ID    Page_URL Entry_Page   Exit_Page  Unique_Visitors  \\\n",
       "0      00101      1.0       /home      /home   /product1             12.0   \n",
       "1      00102      2.0   /product1  /product1       /cart              NaN   \n",
       "2      00103      NaN       /cart      /home   /checkout             25.0   \n",
       "3      00104      4.0   /checkout      /cart  /thank-you             30.0   \n",
       "4      00105      5.0  /thank-you  /checkout  /thank-you             18.0   \n",
       "5      00106      6.0       /home      /home   /product1             15.0   \n",
       "6      00107      7.0   /product1  /product1       /cart             22.0   \n",
       "7      00108      8.0       /cart      /home   /checkout             35.0   \n",
       "8      00109      NaN   /checkout      /cart  /thank-you              NaN   \n",
       "9      00110     10.0  /thank-you  /checkout  /thank-you             40.0   \n",
       "\n",
       "   Bounce_Rate  Conversion_Rate  Exit_Percentage  Total_Views  \n",
       "0         45.0             15.0             60.0        300.0  \n",
       "1         30.0             10.0             70.0        250.0  \n",
       "2          NaN              5.0             50.0          NaN  \n",
       "3         50.0              NaN              NaN        400.0  \n",
       "4         25.0             20.0             80.0        320.0  \n",
       "5         40.0             18.0             65.0        280.0  \n",
       "6         35.0             12.0             75.0        350.0  \n",
       "7          NaN              8.0             55.0        420.0  \n",
       "8         55.0             14.0              NaN          NaN  \n",
       "9         60.0              NaN             85.0        310.0  "
      ]
     },
     "execution_count": 6,
     "metadata": {},
     "output_type": "execute_result"
    }
   ],
   "source": [
    "df.head(10)"
   ]
  },
  {
   "cell_type": "markdown",
   "id": "e91dd0a8",
   "metadata": {},
   "source": [
    "# Step 3: Handle Missing Values\n"
   ]
  },
  {
   "cell_type": "code",
   "execution_count": 7,
   "id": "ae3de4d6",
   "metadata": {},
   "outputs": [],
   "source": [
    "df['User_ID'] = df['User_ID'].fillna(df['User_ID'].ffill() + 1)"
   ]
  },
  {
   "cell_type": "code",
   "execution_count": 8,
   "id": "4199706e",
   "metadata": {},
   "outputs": [
    {
     "data": {
      "text/plain": [
       "<AxesSubplot:xlabel='Unique_Visitors', ylabel='Count'>"
      ]
     },
     "execution_count": 8,
     "metadata": {},
     "output_type": "execute_result"
    },
    {
     "data": {
      "image/png": "[encoded data removed]",
      "text/plain": [
       "<Figure size 432x288 with 1 Axes>"
      ]
     },
     "metadata": {
      "needs_background": "light"
     },
     "output_type": "display_data"
    }
   ],
   "source": [
    "# Plot a histogram with KDE for 'Unique_Visitors' to visualize its distribution, using 15 bins and a purple color\n",
    "sns.histplot(df['Unique_Visitors'] ,bins=15 ,kde=True ,color='purple')\n"
   ]
  },
  {
   "cell_type": "code",
   "execution_count": 9,
   "id": "5e44a4bd",
   "metadata": {},
   "outputs": [],
   "source": [
    "# Replace null values in 'Unique_Visitors' with the column's mean value.\n",
    "df['Unique_Visitors'].fillna(df['Unique_Visitors'].mean(), inplace=True)"
   ]
  },
  {
   "cell_type": "code",
   "execution_count": 10,
   "id": "d49a3050",
   "metadata": {},
   "outputs": [
    {
     "data": {
      "text/plain": [
       "<AxesSubplot:xlabel='Bounce_Rate', ylabel='Count'>"
      ]
     },
     "execution_count": 10,
     "metadata": {},
     "output_type": "execute_result"
    },
    {
     "data": {
      "image/png": "[encoded data removed]",
      "text/plain": [
       "<Figure size 432x288 with 1 Axes>"
      ]
     },
     "metadata": {
      "needs_background": "light"
     },
     "output_type": "display_data"
    }
   ],
   "source": [
    "# Plot a histogram with KDE for 'Bounce_Rate' to visualize its distribution, using 15 bins and a purple color\n",
    "sns.histplot(df['Bounce_Rate'] ,bins=15 ,kde=True ,color='purple')"
   ]
  },
  {
   "cell_type": "code",
   "execution_count": 11,
   "id": "9330cfaa",
   "metadata": {},
   "outputs": [],
   "source": [
    "# Replace null values in 'Bounce_Rate' with the column's median value.\n",
    "df['Bounce_Rate'].fillna(df['Bounce_Rate'].median(), inplace=True)"
   ]
  },
  {
   "cell_type": "code",
   "execution_count": 12,
   "id": "3c792ea8",
   "metadata": {},
   "outputs": [
    {
     "data": {
      "text/plain": [
       "<AxesSubplot:xlabel='Conversion_Rate', ylabel='Count'>"
      ]
     },
     "execution_count": 12,
     "metadata": {},
     "output_type": "execute_result"
    },
    {
     "data": {
      "image/png": "[encoded data removed]",
      "text/plain": [
       "<Figure size 432x288 with 1 Axes>"
      ]
     },
     "metadata": {
      "needs_background": "light"
     },
     "output_type": "display_data"
    }
   ],
   "source": [
    "# Plot a histogram with KDE for 'Conversion_Rate' to visualize its distribution, using 15 bins and a purple color\n",
    "sns.histplot(df['Conversion_Rate'] ,bins=15 ,kde=True ,color='purple')"
   ]
  },
  {
   "cell_type": "code",
   "execution_count": 13,
   "id": "1a6975b0",
   "metadata": {},
   "outputs": [],
   "source": [
    "# Replace null values in 'Conversion_Rate' with the column's median value.\n",
    "df['Conversion_Rate'].fillna(df['Conversion_Rate'].median(), inplace=True)"
   ]
  },
  {
   "cell_type": "code",
   "execution_count": 14,
   "id": "5470d59e",
   "metadata": {},
   "outputs": [
    {
     "data": {
      "text/plain": [
       "<AxesSubplot:xlabel='Exit_Percentage', ylabel='Count'>"
      ]
     },
     "execution_count": 14,
     "metadata": {},
     "output_type": "execute_result"
    },
    {
     "data": {
      "image/png": "[encoded data removed]",
      "text/plain": [
       "<Figure size 432x288 with 1 Axes>"
      ]
     },
     "metadata": {
      "needs_background": "light"
     },
     "output_type": "display_data"
    }
   ],
   "source": [
    "# Plot a histogram with KDE for 'Exit_Percentage' to visualize its distribution, using 15 bins and a purple color\n",
    "sns.histplot(df['Exit_Percentage'] ,bins=15 ,kde=True ,color='purple')"
   ]
  },
  {
   "cell_type": "code",
   "execution_count": 15,
   "id": "25634d6c",
   "metadata": {},
   "outputs": [],
   "source": [
    "# Replace null values in 'Exit_Percentage' with the column's mean value.\n",
    "df['Exit_Percentage'].fillna(df['Exit_Percentage'].mean(), inplace=True)"
   ]
  },
  {
   "cell_type": "code",
   "execution_count": 16,
   "id": "520644e5",
   "metadata": {},
   "outputs": [
    {
     "data": {
      "text/plain": [
       "<AxesSubplot:xlabel='Total_Views', ylabel='Count'>"
      ]
     },
     "execution_count": 16,
     "metadata": {},
     "output_type": "execute_result"
    },
    {
     "data": {
      "image/png": "[encoded data removed]",
      "text/plain": [
       "<Figure size 432x288 with 1 Axes>"
      ]
     },
     "metadata": {
      "needs_background": "light"
     },
     "output_type": "display_data"
    }
   ],
   "source": [
    "# Plot a histogram with KDE for 'Total_Views' to visualize its distribution, using 15 bins and a purple color\n",
    "sns.histplot(df['Total_Views'] ,bins=15 ,kde=True ,color='purple')"
   ]
  },
  {
   "cell_type": "code",
   "execution_count": 17,
   "id": "2525e6c8",
   "metadata": {},
   "outputs": [],
   "source": [
    "# Replace null values in 'Total_Views' with the column's mean value.\n",
    "df['Total_Views'].fillna(df['Total_Views'].mean(), inplace=True)"
   ]
  },
  {
   "cell_type": "code",
   "execution_count": 18,
   "id": "9ab921ef",
   "metadata": {},
   "outputs": [
    {
     "data": {
      "text/plain": [
       "Session_ID         0\n",
       "User_ID            0\n",
       "Page_URL           0\n",
       "Entry_Page         0\n",
       "Exit_Page          0\n",
       "Unique_Visitors    0\n",
       "Bounce_Rate        0\n",
       "Conversion_Rate    0\n",
       "Exit_Percentage    0\n",
       "Total_Views        0\n",
       "dtype: int64"
      ]
     },
     "execution_count": 18,
     "metadata": {},
     "output_type": "execute_result"
    }
   ],
   "source": [
    "# Check For Missing Data\n",
    "df.isnull().sum()"
   ]
  },
  {
   "cell_type": "markdown",
   "id": "1e7cbba3",
   "metadata": {},
   "source": [
    "# Step 4: Added Columns\n"
   ]
  },
  {
   "cell_type": "code",
   "execution_count": 19,
   "id": "45e01e03",
   "metadata": {},
   "outputs": [],
   "source": [
    "#Session_Count\n",
    "df['Session_Count'] = df.groupby('User_ID')['User_ID'].transform('count')"
   ]
  },
  {
   "cell_type": "code",
   "execution_count": 20,
   "id": "b2ec9661",
   "metadata": {},
   "outputs": [],
   "source": [
    "#Views_Per_Session\n",
    "df['Views_Per_Session'] = df['Total_Views'] / df['Session_Count']"
   ]
  },
  {
   "cell_type": "code",
   "execution_count": 21,
   "id": "d9ac67dd",
   "metadata": {},
   "outputs": [],
   "source": [
    "#Bounce_Category\n",
    "df['Bounce_Category'] = pd.cut(df['Bounce_Rate'], bins=[0, 20, 50, 100], labels=['Low','Meduim','High'])\n"
   ]
  },
  {
   "cell_type": "code",
   "execution_count": 22,
   "id": "99124368",
   "metadata": {},
   "outputs": [],
   "source": [
    "# Classify 'Unique_Visitors' into 'Low', 'Medium', or 'High' based on defined ranges.\n",
    "df['User_Efficiency'] = pd.cut(df['Unique_Visitors'] ,bins=[0, 20, 30, df['Unique_Visitors'].max()+1],  labels = ['Low' , 'Medium', 'High'])"
   ]
  },
  {
   "cell_type": "code",
   "execution_count": 23,
   "id": "fcbd58f4",
   "metadata": {},
   "outputs": [],
   "source": [
    "# Classify 'User_Conversion_Rate' into 'Low', 'Medium', or 'High' based on defined ranges.\n",
    "df['User_Conversion_Rate'] = pd.cut(df['Conversion_Rate'], bins=[0, 10, 20, df['Conversion_Rate'].max()+1], labels = ['Low' , 'Medium', 'High'])"
   ]
  },
  {
   "cell_type": "code",
   "execution_count": 24,
   "id": "c7d28d96",
   "metadata": {},
   "outputs": [],
   "source": [
    "# Define User Value based on Efficiency and Conversion Rate\n",
    "\n",
    "def categorize_user_value(row):\n",
    "    if row['User_Efficiency'] == 'High' and row['User_Conversion_Rate'] in ['High', 'Medium']:\n",
    "        return 'High Value Customer'\n",
    "    elif row['User_Efficiency'] == 'Low' and row['User_Conversion_Rate'] == 'Low':\n",
    "        return 'Low Value Customer'\n",
    "    else: \n",
    "        return 'Medium Value Customer'"
   ]
  },
  {
   "cell_type": "code",
   "execution_count": 25,
   "id": "89a2053c",
   "metadata": {},
   "outputs": [],
   "source": [
    "df['User_Value'] = df.apply(categorize_user_value , axis=1)"
   ]
  },
  {
   "cell_type": "markdown",
   "id": "9e3f50c1",
   "metadata": {},
   "source": [
    " # Step 6: Exploratory Data Analysis (EDA)\n"
   ]
  },
  {
   "cell_type": "code",
   "execution_count": 26,
   "id": "f0c82e33",
   "metadata": {},
   "outputs": [],
   "source": [
    "efficiency_counts = df['User_Efficiency'].value_counts(normalize = True)*100"
   ]
  },
  {
   "cell_type": "code",
   "execution_count": 27,
   "id": "18194382",
   "metadata": {},
   "outputs": [
    {
     "data": {
      "text/plain": [
       "([<matplotlib.patches.Wedge at 0x25909b92160>,\n",
       "  <matplotlib.patches.Wedge at 0x25909b92880>,\n",
       "  <matplotlib.patches.Wedge at 0x25909b92f10>],\n",
       " [Text(0.2061194541375137, 1.080515974257694, 'Medium'),\n",
       "  Text(-0.7274431012982646, -0.8251221330042984, 'High'),\n",
       "  Text(0.9468161741328934, -0.5599456512915791, 'Low')],\n",
       " [Text(0.11242879316591656, 0.5893723495951058, '44.0%'),\n",
       "  Text(-0.39678714616268973, -0.4500666180023445, '39.0%'),\n",
       "  Text(0.5164451858906691, -0.3054249007044977, '17.0%')])"
      ]
     },
     "execution_count": 27,
     "metadata": {},
     "output_type": "execute_result"
    },
    {
     "data": {
      "image/png": "[encoded data removed]",
      "text/plain": [
       "<Figure size 432x432 with 1 Axes>"
      ]
     },
     "metadata": {},
     "output_type": "display_data"
    }
   ],
   "source": [
    "plt.figure(figsize=(6,6))\n",
    "plt.pie(efficiency_counts, labels = efficiency_counts.index, autopct='%1.1f%%',colors =['lightblue', 'orange', 'lightgreen'])"
   ]
  },
  {
   "cell_type": "code",
   "execution_count": 28,
   "id": "74d0700b",
   "metadata": {},
   "outputs": [
    {
     "data": {
      "image/png": "[encoded data removed]",
      "text/plain": [
       "<Figure size 432x288 with 1 Axes>"
      ]
     },
     "metadata": {
      "needs_background": "light"
     },
     "output_type": "display_data"
    }
   ],
   "source": [
    "# Distribution of Unique Visitors\n",
    "sns.histplot(df['Unique_Visitors'], kde=True, bins=10, color='purple')\n",
    "plt.title('Distribution of Unique Visitors')\n",
    "plt.show()"
   ]
  },
  {
   "cell_type": "code",
   "execution_count": 29,
   "id": "c3a99065",
   "metadata": {},
   "outputs": [],
   "source": [
    "User_Conversion_Rate = df['User_Conversion_Rate'].value_counts(normalize = True)*100"
   ]
  },
  {
   "cell_type": "code",
   "execution_count": 30,
   "id": "fed4521c",
   "metadata": {},
   "outputs": [
    {
     "data": {
      "text/plain": [
       "([<matplotlib.patches.Wedge at 0x25909c54340>,\n",
       "  <matplotlib.patches.Wedge at 0x25909c54a30>,\n",
       "  <matplotlib.patches.Wedge at 0x25909c61130>],\n",
       " [Text(-0.8251221330042984, 0.7274431012982644, 'Medium'),\n",
       "  Text(0.8251220989502278, -0.7274431399250189, 'Low'),\n",
       "  Text(1.0999999999999954, -1.0298943298478347e-07, 'High')],\n",
       " [Text(-0.4500666180023445, 0.3967871461626897, '77.0%'),\n",
       "  Text(0.4500665994273969, -0.39678716723182844, '23.0%'),\n",
       "  Text(0.5999999999999974, -5.617605435533643e-08, '0.0%')])"
      ]
     },
     "execution_count": 30,
     "metadata": {},
     "output_type": "execute_result"
    },
    {
     "data": {
      "image/png": "[encoded data removed]",
      "text/plain": [
       "<Figure size 432x432 with 1 Axes>"
      ]
     },
     "metadata": {},
     "output_type": "display_data"
    }
   ],
   "source": [
    "plt.figure(figsize=(6,6))\n",
    "plt.pie(User_Conversion_Rate, labels = User_Conversion_Rate.index, autopct='%1.1f%%',colors =['lightblue', 'orange', 'lightgreen'])"
   ]
  },
  {
   "cell_type": "code",
   "execution_count": 31,
   "id": "7272da47",
   "metadata": {},
   "outputs": [],
   "source": [
    "User_Value = df['User_Value'].value_counts(normalize = True)*100"
   ]
  },
  {
   "cell_type": "code",
   "execution_count": 32,
   "id": "1fd4f025",
   "metadata": {},
   "outputs": [
    {
     "data": {
      "text/plain": [
       "([<matplotlib.patches.Wedge at 0x25909c98dc0>,\n",
       "  <matplotlib.patches.Wedge at 0x25909ca64f0>,\n",
       "  <matplotlib.patches.Wedge at 0x25909ca6bb0>],\n",
       " [Text(-0.5894094953465412, 0.9287607048079368, 'Medium Value Customer'),\n",
       "  Text(0.529929120932173, -0.963937304386574, 'High Value Customer'),\n",
       "  Text(1.0978294094515424, -0.06906944145769335, 'Low Value Customer')],\n",
       " [Text(-0.32149608837084065, 0.5065967480770565, '68.0%'),\n",
       "  Text(0.28905224778118527, -0.5257839842108585, '30.0%'),\n",
       "  Text(0.5988160415190231, -0.03767424079510546, '2.0%')])"
      ]
     },
     "execution_count": 32,
     "metadata": {},
     "output_type": "execute_result"
    },
    {
     "data": {
      "image/png": "[encoded data removed]",
      "text/plain": [
       "<Figure size 432x432 with 1 Axes>"
      ]
     },
     "metadata": {},
     "output_type": "display_data"
    }
   ],
   "source": [
    "plt.figure(figsize=(6,6))\n",
    "plt.pie(User_Value, labels = User_Value.index, autopct='%1.1f%%',colors =['lightblue', 'orange', 'lightgreen'])"
   ]
  },
  {
   "cell_type": "code",
   "execution_count": 33,
   "id": "cad26e9b",
   "metadata": {},
   "outputs": [
    {
     "data": {
      "image/png": "[encoded data removed]",
      "text/plain": [
       "<Figure size 432x288 with 1 Axes>"
      ]
     },
     "metadata": {
      "needs_background": "light"
     },
     "output_type": "display_data"
    }
   ],
   "source": [
    "# Boxplot of Total Views by User Efficiency\n",
    "sns.boxplot(data=df, x='User_Efficiency', y='Total_Views', palette='viridis')\n",
    "plt.title('Total Views by User Efficiency')\n",
    "plt.show()"
   ]
  },
  {
   "cell_type": "code",
   "execution_count": 34,
   "id": "c50c1bd7",
   "metadata": {},
   "outputs": [
    {
     "data": {
      "image/png": "[encoded data removed]",
      "text/plain": [
       "<Figure size 432x288 with 1 Axes>"
      ]
     },
     "metadata": {},
     "output_type": "display_data"
    }
   ],
   "source": [
    "# Pie Chart of User Value\n",
    "df['User_Value'].value_counts().plot.pie(autopct='%1.1f%%', colors=['green', 'blue', 'red'])\n",
    "plt.title('User Value Distribution')\n",
    "plt.ylabel('')\n",
    "plt.show()"
   ]
  },
  {
   "cell_type": "code",
   "execution_count": 35,
   "id": "13a23192",
   "metadata": {},
   "outputs": [
    {
     "data": {
      "image/png": "[encoded data removed]",
      "text/plain": [
       "<Figure size 720x360 with 1 Axes>"
      ]
     },
     "metadata": {
      "needs_background": "light"
     },
     "output_type": "display_data"
    }
   ],
   "source": [
    "# Conversion Rate Trend \n",
    "plt.figure(figsize=(10, 5))\n",
    "sns.lineplot(data=df, x=df.index, y='Conversion_Rate', marker='o', color='blue')\n",
    "plt.xlabel('Sessions')\n",
    "plt.ylabel('Conversion Rate (%)')\n",
    "plt.title('Conversion Rate Trend')\n",
    "plt.grid()\n",
    "plt.show()\n"
   ]
  },
  {
   "cell_type": "code",
   "execution_count": 36,
   "id": "ea3ccc6f",
   "metadata": {},
   "outputs": [
    {
     "name": "stdout",
     "output_type": "stream",
     "text": [
      "<class 'pandas.core.frame.DataFrame'>\n",
      "RangeIndex: 100 entries, 0 to 99\n",
      "Data columns (total 16 columns):\n",
      " #   Column                Non-Null Count  Dtype   \n",
      "---  ------                --------------  -----   \n",
      " 0   Session_ID            100 non-null    object  \n",
      " 1   User_ID               100 non-null    float64 \n",
      " 2   Page_URL              100 non-null    object  \n",
      " 3   Entry_Page            100 non-null    object  \n",
      " 4   Exit_Page             100 non-null    object  \n",
      " 5   Unique_Visitors       100 non-null    float64 \n",
      " 6   Bounce_Rate           100 non-null    float64 \n",
      " 7   Conversion_Rate       100 non-null    float64 \n",
      " 8   Exit_Percentage       100 non-null    float64 \n",
      " 9   Total_Views           100 non-null    float64 \n",
      " 10  Session_Count         100 non-null    int64   \n",
      " 11  Views_Per_Session     100 non-null    float64 \n",
      " 12  Bounce_Category       100 non-null    category\n",
      " 13  User_Efficiency       100 non-null    category\n",
      " 14  User_Conversion_Rate  100 non-null    category\n",
      " 15  User_Value            100 non-null    object  \n",
      "dtypes: category(3), float64(7), int64(1), object(5)\n",
      "memory usage: 11.0+ KB\n"
     ]
    }
   ],
   "source": [
    "#Check\n",
    "df.info()"
   ]
  },
  {
   "cell_type": "code",
   "execution_count": null,
   "id": "24ed5b15",
   "metadata": {},
   "outputs": [],
   "source": []
  }
 ],
 "metadata": {
  "kernelspec": {
   "display_name": "Python 3",
   "language": "python",
   "name": "python3"
  },
  "language_info": {
   "codemirror_mode": {
    "name": "ipython",
    "version": 3
   },
   "file_extension": ".py",
   "mimetype": "text/x-python",
   "name": "python",
   "nbconvert_exporter": "python",
   "pygments_lexer": "ipython3",
   "version": "3.8.8"
  }
 },
 "nbformat": 4,
 "nbformat_minor": 5
}
